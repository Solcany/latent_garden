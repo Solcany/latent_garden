{
 "cells": [
  {
   "cell_type": "code",
   "execution_count": 20,
   "id": "6fc9f3ce",
   "metadata": {},
   "outputs": [],
   "source": [
    "import numpy as np \n",
    "import glob\n",
    "import PIL\n",
    "import os "
   ]
  },
  {
   "cell_type": "code",
   "execution_count": 21,
   "id": "ffc9278a",
   "metadata": {},
   "outputs": [],
   "source": [
    "input_path = \"./outputs/images/\"\n",
    "output_path = \"./outputs/embeddings/\"\n",
    "\n",
    "if not os.path.isdir(output_path):\n",
    "    os.mkdir(output_path)"
   ]
  },
  {
   "cell_type": "code",
   "execution_count": 22,
   "id": "b19c926e",
   "metadata": {},
   "outputs": [],
   "source": [
    "# get all paths\n",
    "\n",
    "path = os.path.join(input_path, \"*\")\n",
    "generations_folders = glob.glob(path)\n",
    "generations_folders.sort(key=lambda f: int(''.join(filter(str.isdigit, f))))"
   ]
  },
  {
   "cell_type": "code",
   "execution_count": 23,
   "id": "7254011f",
   "metadata": {},
   "outputs": [],
   "source": [
    "import umap\n",
    "ims_reducer = umap.UMAP(n_neighbors=50, min_dist=0.1, n_components=3)"
   ]
  },
  {
   "cell_type": "code",
   "execution_count": null,
   "id": "7c9fe64b",
   "metadata": {},
   "outputs": [
    {
     "name": "stdout",
     "output_type": "stream",
     "text": [
      "1 of: 193\n",
      "2 of: 193\n",
      "3 of: 193\n",
      "4 of: 193\n",
      "5 of: 193\n",
      "6 of: 193\n",
      "7 of: 193\n",
      "8 of: 193\n",
      "9 of: 193\n",
      "10 of: 193\n",
      "11 of: 193\n",
      "12 of: 193\n",
      "13 of: 193\n",
      "14 of: 193\n",
      "15 of: 193\n",
      "16 of: 193\n",
      "17 of: 193\n",
      "18 of: 193\n",
      "19 of: 193\n",
      "20 of: 193\n",
      "21 of: 193\n",
      "22 of: 193\n",
      "23 of: 193\n",
      "24 of: 193\n",
      "25 of: 193\n",
      "26 of: 193\n",
      "27 of: 193\n",
      "28 of: 193\n",
      "29 of: 193\n",
      "30 of: 193\n",
      "31 of: 193\n",
      "32 of: 193\n",
      "33 of: 193\n",
      "34 of: 193\n",
      "35 of: 193\n",
      "36 of: 193\n",
      "37 of: 193\n",
      "38 of: 193\n",
      "39 of: 193\n",
      "40 of: 193\n",
      "41 of: 193\n",
      "42 of: 193\n",
      "43 of: 193\n",
      "44 of: 193\n",
      "45 of: 193\n",
      "46 of: 193\n",
      "47 of: 193\n",
      "48 of: 193\n",
      "49 of: 193\n",
      "50 of: 193\n",
      "51 of: 193\n",
      "52 of: 193\n",
      "53 of: 193\n",
      "54 of: 193\n",
      "55 of: 193\n",
      "56 of: 193\n",
      "57 of: 193\n",
      "58 of: 193\n",
      "59 of: 193\n",
      "60 of: 193\n",
      "61 of: 193\n",
      "62 of: 193\n",
      "63 of: 193\n",
      "64 of: 193\n",
      "65 of: 193\n",
      "66 of: 193\n"
     ]
    }
   ],
   "source": [
    "for idx, folder in enumerate(generations_folders):\n",
    "    ims_folder = os.path.join(folder, \"*.jpg\")\n",
    "    ims_files = glob.glob(ims_folder)\n",
    "    ims_files.sort(key=lambda f: int(''.join(filter(str.isdigit, f))))\n",
    "    ims = np.array([np.asarray(PIL.Image.open(fname)) for fname in ims_files])\n",
    "    ims = np.reshape(ims, (ims.shape[0], ims.shape[1] * ims.shape[2] * ims.shape[3]))\n",
    "    embeddings = ims_reducer.fit_transform(ims)\n",
    "    \n",
    "    out_path = os.path.join(output_path, str(idx) + \".csv\")\n",
    "    np.savetxt(out_path, embeddings, delimiter=\",\")\n",
    "    print(str(idx+1) + \" of: \" + str(len(generations_folders)))"
   ]
  }
 ],
 "metadata": {
  "kernelspec": {
   "display_name": "Python 3 (ipykernel)",
   "language": "python",
   "name": "python3"
  },
  "language_info": {
   "codemirror_mode": {
    "name": "ipython",
    "version": 3
   },
   "file_extension": ".py",
   "mimetype": "text/x-python",
   "name": "python",
   "nbconvert_exporter": "python",
   "pygments_lexer": "ipython3",
   "version": "3.9.7"
  }
 },
 "nbformat": 4,
 "nbformat_minor": 5
}
