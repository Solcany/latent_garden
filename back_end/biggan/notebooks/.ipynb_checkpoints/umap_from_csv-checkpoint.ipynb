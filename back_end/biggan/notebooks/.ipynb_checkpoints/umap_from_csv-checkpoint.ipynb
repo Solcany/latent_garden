{
 "cells": [
  {
   "cell_type": "code",
   "execution_count": 2,
   "id": "6fc9f3ce",
   "metadata": {},
   "outputs": [],
   "source": [
    "import numpy as np \n",
    "import os "
   ]
  },
  {
   "cell_type": "code",
   "execution_count": 3,
   "id": "b432e61b",
   "metadata": {},
   "outputs": [],
   "source": [
    "from numpy import genfromtxt\n",
    "data = genfromtxt('data/sky_watch_data_friday.csv', delimiter=',')"
   ]
  },
  {
   "cell_type": "code",
   "execution_count": 4,
   "id": "ffc9278a",
   "metadata": {},
   "outputs": [],
   "source": [
    "output_path = \"./data/\"\n",
    "\n",
    "if not os.path.isdir(output_path):\n",
    "    os.mkdir(output_path)"
   ]
  },
  {
   "cell_type": "code",
   "execution_count": 5,
   "id": "7254011f",
   "metadata": {},
   "outputs": [],
   "source": [
    "import umap\n",
    "umap_reducer = umap.UMAP(n_neighbors=50, min_dist=0.1, n_components=3)"
   ]
  },
  {
   "cell_type": "code",
   "execution_count": 7,
   "id": "7c9fe64b",
   "metadata": {},
   "outputs": [
    {
     "name": "stderr",
     "output_type": "stream",
     "text": [
      "OMP: Info #273: omp_set_nested routine deprecated, please use omp_set_max_active_levels instead.\n"
     ]
    }
   ],
   "source": [
    "    embeddings = umap_reducer.fit_transform(data)\n",
    "    out_path = os.path.join(output_path, \"sky_watch_data_friday_embeddings\" + \".csv\")\n",
    "    np.savetxt(out_path, embeddings, delimiter=\",\")"
   ]
  }
 ],
 "metadata": {
  "kernelspec": {
   "display_name": "Python 3 (ipykernel)",
   "language": "python",
   "name": "python3"
  },
  "language_info": {
   "codemirror_mode": {
    "name": "ipython",
    "version": 3
   },
   "file_extension": ".py",
   "mimetype": "text/x-python",
   "name": "python",
   "nbconvert_exporter": "python",
   "pygments_lexer": "ipython3",
   "version": "3.7.9"
  }
 },
 "nbformat": 4,
 "nbformat_minor": 5
}
