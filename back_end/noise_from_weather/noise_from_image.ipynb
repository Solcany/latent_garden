{
 "cells": [
  {
   "cell_type": "code",
   "execution_count": 29,
   "id": "df10bd29",
   "metadata": {},
   "outputs": [],
   "source": [
    "from PIL import Image\n",
    "import numpy as np"
   ]
  },
  {
   "cell_type": "code",
   "execution_count": 30,
   "id": "db95917a",
   "metadata": {},
   "outputs": [],
   "source": [
    "im = Image.open('sky.jpg')\n",
    "im = im.resize((16,16), Image.ANTIALIAS)\n"
   ]
  },
  {
   "cell_type": "code",
   "execution_count": 31,
   "id": "2baf59e3",
   "metadata": {},
   "outputs": [],
   "source": [
    "rgb = np.asarray(list(im.getdata())) # get pixels"
   ]
  },
  {
   "cell_type": "code",
   "execution_count": 32,
   "id": "a99b7117",
   "metadata": {},
   "outputs": [],
   "source": [
    "rgb = rgb / 255 #normalise rgb"
   ]
  },
  {
   "cell_type": "code",
   "execution_count": 33,
   "id": "67b8e66a",
   "metadata": {},
   "outputs": [],
   "source": [
    "# rgb to greyscale conversion weights\n",
    "r_w = 0.3\n",
    "g_w = 0.59\n",
    "b_w = 0.11"
   ]
  },
  {
   "cell_type": "code",
   "execution_count": 34,
   "id": "63b4b4fa",
   "metadata": {},
   "outputs": [
    {
     "data": {
      "text/plain": [
       "array([0.5254902 , 0.70588235, 0.83137255])"
      ]
     },
     "execution_count": 34,
     "metadata": {},
     "output_type": "execute_result"
    }
   ],
   "source": [
    "# make_grayscale = lambda c: c[0] * r_w + \n",
    "#                            c[1] * g_w +\n",
    "#                            c[2] * b_w\n",
    "\n",
    "rgb[0]"
   ]
  },
  {
   "cell_type": "code",
   "execution_count": 35,
   "id": "3c2c2b31",
   "metadata": {},
   "outputs": [],
   "source": [
    "# custom function\n",
    "def make_gray(r, g, b):\n",
    "  return r * r_w + g * g_w + b * b_w"
   ]
  },
  {
   "cell_type": "code",
   "execution_count": 36,
   "id": "91d68fea",
   "metadata": {},
   "outputs": [],
   "source": [
    "gs = []\n",
    "\n",
    "for c in rgb:\n",
    "    r,g,b = c\n",
    "    gs.append(make_gray(r,g,b))\n",
    "\n",
    "gs = np.asarray(gs)"
   ]
  },
  {
   "cell_type": "code",
   "execution_count": 37,
   "id": "368eaedd",
   "metadata": {},
   "outputs": [
    {
     "data": {
      "text/plain": [
       "256"
      ]
     },
     "execution_count": 37,
     "metadata": {},
     "output_type": "execute_result"
    }
   ],
   "source": [
    "len(gs)"
   ]
  },
  {
   "cell_type": "code",
   "execution_count": null,
   "id": "3a4c71da",
   "metadata": {},
   "outputs": [],
   "source": []
  }
 ],
 "metadata": {
  "kernelspec": {
   "display_name": "Python 3 (ipykernel)",
   "language": "python",
   "name": "python3"
  },
  "language_info": {
   "codemirror_mode": {
    "name": "ipython",
    "version": 3
   },
   "file_extension": ".py",
   "mimetype": "text/x-python",
   "name": "python",
   "nbconvert_exporter": "python",
   "pygments_lexer": "ipython3",
   "version": "3.7.9"
  }
 },
 "nbformat": 4,
 "nbformat_minor": 5
}
