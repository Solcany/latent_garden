{
 "cells": [
  {
   "cell_type": "code",
   "execution_count": 2,
   "id": "1411ab39",
   "metadata": {},
   "outputs": [],
   "source": [
    "import numpy as np \n",
    "import glob\n",
    "import os \n",
    "import umap\n",
    "import numpy as np\n"
   ]
  },
  {
   "cell_type": "code",
   "execution_count": 93,
   "id": "811277b4",
   "metadata": {},
   "outputs": [],
   "source": [
    "total_sample_size = 100\n",
    "slice_size = 10\n",
    "sample_size_per_slice = total_sample_size / slices_size\n",
    "latent_vector_size = 128\n",
    "umap_neighbours = 50\n",
    "umap_min_distatnce = 0.1\n",
    "umap_dimensions = 2\n",
    "output_path = \"./output/\"\n",
    "csv_filename = \"random_nums_3d_embeddings\"\n",
    "csv_header = \"x, y, z\"\n",
    "csv_comments = \"\" # should the csv header have any text before the labels? (like '#' for python comment)\n",
    "csv_fmt = \"%f\" #fmt \"%f\" ensures floats are not saved in the sci annotation format to to the csv file"
   ]
  },
  {
   "cell_type": "code",
   "execution_count": 7,
   "id": "405c80f4",
   "metadata": {},
   "outputs": [],
   "source": [
    "# def main():\n",
    "# \t# create output folder\n",
    "# \tif not os.path.isdir(output_path):\n",
    "# \t    os.mkdir(output_path)\n",
    "\n",
    "total_sample = np.random.normal(0, 1, (total_sample_size, latent_vector_size))\n",
    "\n"
   ]
  },
  {
   "cell_type": "code",
   "execution_count": 8,
   "id": "c6f11cda",
   "metadata": {},
   "outputs": [
    {
     "name": "stdout",
     "output_type": "stream",
     "text": [
      "Running umap\n"
     ]
    },
    {
     "name": "stderr",
     "output_type": "stream",
     "text": [
      "OMP: Info #273: omp_set_nested routine deprecated, please use omp_set_max_active_levels instead.\n"
     ]
    }
   ],
   "source": [
    "\tprint(\"Running umap\")\t\n",
    "\t# get embeddings\n",
    "\treducer = umap.UMAP(n_neighbors=umap_neighbours, min_dist=umap_min_distatnce, n_components=umap_dimensions)\n",
    "\tembeddings = reducer.fit_transform(total_sample)\n",
    "    \n",
    "\t# create 3rd column for z index, where z is always 0\n",
    "# \tembeddings = np.insert(embeddings, 2, 0, 1)\n",
    "\n"
   ]
  },
  {
   "cell_type": "code",
   "execution_count": 81,
   "id": "0a2b1a30",
   "metadata": {},
   "outputs": [
    {
     "ename": "ValueError",
     "evalue": "a must be 1-dimensional",
     "output_type": "error",
     "traceback": [
      "\u001b[0;31m---------------------------------------------------------------------------\u001b[0m",
      "\u001b[0;31mValueError\u001b[0m                                Traceback (most recent call last)",
      "\u001b[0;32m/var/folders/zj/f_wv_4b16pd3hxw8qg93mh1m0000gn/T/ipykernel_10267/3396373676.py\u001b[0m in \u001b[0;36m<module>\u001b[0;34m\u001b[0m\n\u001b[0;32m----> 1\u001b[0;31m \u001b[0ms\u001b[0m \u001b[0;34m=\u001b[0m \u001b[0mnp\u001b[0m\u001b[0;34m.\u001b[0m\u001b[0mrandom\u001b[0m\u001b[0;34m.\u001b[0m\u001b[0mchoice\u001b[0m\u001b[0;34m(\u001b[0m\u001b[0membeddings\u001b[0m\u001b[0;34m,\u001b[0m \u001b[0msize\u001b[0m\u001b[0;34m=\u001b[0m\u001b[0;34m(\u001b[0m\u001b[0;36m10\u001b[0m\u001b[0;34m,\u001b[0m\u001b[0;36m2\u001b[0m\u001b[0;34m)\u001b[0m\u001b[0;34m,\u001b[0m \u001b[0mreplace\u001b[0m\u001b[0;34m=\u001b[0m\u001b[0;32mFalse\u001b[0m\u001b[0;34m)\u001b[0m\u001b[0;34m\u001b[0m\u001b[0;34m\u001b[0m\u001b[0m\n\u001b[0m\u001b[1;32m      2\u001b[0m \u001b[0;31m#embeddings.shape\u001b[0m\u001b[0;34m\u001b[0m\u001b[0;34m\u001b[0m\u001b[0;34m\u001b[0m\u001b[0m\n",
      "\u001b[0;32mmtrand.pyx\u001b[0m in \u001b[0;36mnumpy.random.mtrand.RandomState.choice\u001b[0;34m()\u001b[0m\n",
      "\u001b[0;31mValueError\u001b[0m: a must be 1-dimensional"
     ]
    }
   ],
   "source": [
    "s = np.random.choice(embeddings, size=(10,2), replace=False)\n",
    "#embeddings.shape"
   ]
  },
  {
   "cell_type": "code",
   "execution_count": 15,
   "id": "bbad8dbf",
   "metadata": {},
   "outputs": [
    {
     "name": "stdout",
     "output_type": "stream",
     "text": [
      "[1 2 3 4]\n",
      "[1 1]\n"
     ]
    }
   ],
   "source": [
    "arr = np.array([1,2,3,4])\n",
    "s =  np.random.choice(arr, size=2, replace=False) # replace=False - each value can be selected only once\n",
    "print(arr)\n",
    "print(s)\n",
    "# get random indexes\n",
    "# use them to get items from total sample to slice arr\n",
    "# use them to delete items from total sample\n",
    "# consider boolean mask to do the removal?"
   ]
  },
  {
   "cell_type": "code",
   "execution_count": 144,
   "id": "2df7c3d6",
   "metadata": {},
   "outputs": [
    {
     "name": "stdout",
     "output_type": "stream",
     "text": [
      "(10, 10, 4)\n"
     ]
    }
   ],
   "source": [
    "assert(total_sample_size % slice_size == 0)\n",
    "\n",
    "embs = np.copy(embeddings)\n",
    "embs_indexes = np.arange(embs.shape[0])\n",
    "\n",
    "sliced_embs = np.empty((slice_size, slice_size, 4))\n",
    "\n",
    "print(sliced_embs.shape)\n",
    "for slice_index in range(int(total_sample_size/slice_size)):\n",
    "    embeddings_slice_indexes = np.random.choice(embs_indexes,size=slice_size, replace=False)\n",
    "    slice_indexes = np.flatnonzero(np.isin(embs, embeddings_slice_indexes))\n",
    "    embs_slice = embs[embeddings_slice_indexes]\n",
    "    embs_slice = np.insert(embs_slice, 2, slice_index, 1)\n",
    "    embs_ids = np.arange(slice_index*slice_size, slice_index*slice_size+slice_size)\n",
    "    embs_slice = np.insert(embs_slice, 3, embs_ids, 1)\n",
    "    sliced_embs[slice_index] = embs_slice\n",
    "   # print(embs_slice.shape)\n",
    "    embs_indexes = np.delete(embs_indexes, slice_indexes)\n",
    "\n",
    "sliced_embs = np.reshape(sliced_embs, (total_sample_size, 4))"
   ]
  },
  {
   "cell_type": "code",
   "execution_count": null,
   "id": "72498b8d",
   "metadata": {},
   "outputs": [],
   "source": [
    "\n",
    "# \t# save the embeddings\n",
    "# \tcsv_path = os.path.join(output_path, csv_filename + \".csv\")\n",
    "# \tnp.savetxt(csv_path, \n",
    "# \t\t\t\tembeddings, \n",
    "# \t\t\t\tdelimiter=\",\", \n",
    "# \t\t\t\theader=csv_header, \n",
    "# \t\t\t\tcomments=csv_comments,\t\t\t\t\n",
    "# \t\t\t\tfmt=csv_fmt) \n",
    "# \tprint(\"Umap embeddings saved at: \" + csv_path)\t\n"
   ]
  },
  {
   "cell_type": "code",
   "execution_count": 174,
   "id": "17ddf037",
   "metadata": {},
   "outputs": [
    {
     "name": "stdout",
     "output_type": "stream",
     "text": [
      "(2, 4)\n"
     ]
    },
    {
     "data": {
      "text/plain": [
       "array([[4.14578342, 0.12293019, 3.42161298, 0.88587314],\n",
       "       [1.        , 4.45257568, 0.94426155, 2.        ]])"
      ]
     },
     "execution_count": 174,
     "metadata": {},
     "output_type": "execute_result"
    }
   ],
   "source": [
    "o = np.ones((2, 2))\n",
    "a = np.empty((2, 4))\n",
    "\n",
    "res = np.insert(a, 0, 10, 1)\n",
    "print(res.shape)\n",
    "res\n"
   ]
  },
  {
   "cell_type": "code",
   "execution_count": 192,
   "id": "625b5d65",
   "metadata": {},
   "outputs": [
    {
     "data": {
      "text/plain": [
       "(2, 4)"
      ]
     },
     "execution_count": 192,
     "metadata": {},
     "output_type": "execute_result"
    }
   ],
   "source": [
    "# A = np.empty((4))\n",
    "# newrow = [1, 2, 3]\n",
    "# A = np.hstack([A, newrow])\n",
    "# A\n",
    "new = np.array([[1,1], [2,2]])\n",
    "d = np.zeros((2, 4))\n",
    "d = np.insert(d, 0, new, 1)"
   ]
  }
 ],
 "metadata": {
  "kernelspec": {
   "display_name": "Python 3 (ipykernel)",
   "language": "python",
   "name": "python3"
  },
  "language_info": {
   "codemirror_mode": {
    "name": "ipython",
    "version": 3
   },
   "file_extension": ".py",
   "mimetype": "text/x-python",
   "name": "python",
   "nbconvert_exporter": "python",
   "pygments_lexer": "ipython3",
   "version": "3.7.9"
  }
 },
 "nbformat": 4,
 "nbformat_minor": 5
}
