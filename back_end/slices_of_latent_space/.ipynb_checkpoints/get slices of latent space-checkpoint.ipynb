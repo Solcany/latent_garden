{
 "cells": [
  {
   "cell_type": "code",
   "execution_count": 2,
   "id": "b464b4c3",
   "metadata": {},
   "outputs": [],
   "source": [
    "import numpy as np \n",
    "import glob\n",
    "import os \n",
    "import umap\n",
    "import numpy as np\n"
   ]
  },
  {
   "cell_type": "code",
   "execution_count": 3,
   "id": "6d4e8838",
   "metadata": {},
   "outputs": [],
   "source": [
    "total_sample_size = 100\n",
    "slices_size = 10\n",
    "sample_size_per_slice = total_sample_size / slices_size\n",
    "latent_vector_size = 128\n",
    "umap_neighbours = 50\n",
    "umap_min_distatnce = 0.1\n",
    "umap_dimensions = 2\n",
    "output_path = \"./output/\"\n",
    "csv_filename = \"random_nums_3d_embeddings\"\n",
    "csv_header = \"x, y, z\"\n",
    "csv_comments = \"\" # should the csv header have any text before the labels? (like '#' for python comment)\n",
    "csv_fmt = \"%f\" #fmt \"%f\" ensures floats are not saved in the sci annotation format to to the csv file"
   ]
  },
  {
   "cell_type": "code",
   "execution_count": 7,
   "id": "84463892",
   "metadata": {},
   "outputs": [],
   "source": [
    "# def main():\n",
    "# \t# create output folder\n",
    "# \tif not os.path.isdir(output_path):\n",
    "# \t    os.mkdir(output_path)\n",
    "\n",
    "total_sample = np.random.normal(0, 1, (total_sample_size, latent_vector_size))\n",
    "\n"
   ]
  },
  {
   "cell_type": "code",
   "execution_count": 8,
   "id": "4a0be353",
   "metadata": {},
   "outputs": [
    {
     "name": "stdout",
     "output_type": "stream",
     "text": [
      "Running umap\n"
     ]
    },
    {
     "name": "stderr",
     "output_type": "stream",
     "text": [
      "OMP: Info #273: omp_set_nested routine deprecated, please use omp_set_max_active_levels instead.\n"
     ]
    }
   ],
   "source": [
    "\tprint(\"Running umap\")\t\n",
    "\t# get embeddings\n",
    "\treducer = umap.UMAP(n_neighbors=umap_neighbours, min_dist=umap_min_distatnce, n_components=umap_dimensions)\n",
    "\tembeddings = reducer.fit_transform(total_sample)\n",
    "    \n",
    "\t# create 3rd column for z index, where z is always 0\n",
    "# \tembeddings = np.insert(embeddings, 2, 0, 1)\n",
    "\n",
    "\n",
    "# \t# save the embeddings\n",
    "# \tcsv_path = os.path.join(output_path, csv_filename + \".csv\")\n",
    "# \tnp.savetxt(csv_path, \n",
    "# \t\t\t\tembeddings, \n",
    "# \t\t\t\tdelimiter=\",\", \n",
    "# \t\t\t\theader=csv_header, \n",
    "# \t\t\t\tcomments=csv_comments,\t\t\t\t\n",
    "# \t\t\t\tfmt=csv_fmt) \n",
    "# \tprint(\"Umap embeddings saved at: \" + csv_path)\t\n"
   ]
  },
  {
   "cell_type": "code",
   "execution_count": 13,
   "id": "8e5daaf6",
   "metadata": {},
   "outputs": [
    {
     "ename": "ValueError",
     "evalue": "a must be 1-dimensional",
     "output_type": "error",
     "traceback": [
      "\u001b[0;31m---------------------------------------------------------------------------\u001b[0m",
      "\u001b[0;31mValueError\u001b[0m                                Traceback (most recent call last)",
      "\u001b[0;32m/var/folders/zj/f_wv_4b16pd3hxw8qg93mh1m0000gn/T/ipykernel_10267/3396373676.py\u001b[0m in \u001b[0;36m<module>\u001b[0;34m\u001b[0m\n\u001b[0;32m----> 1\u001b[0;31m \u001b[0ms\u001b[0m \u001b[0;34m=\u001b[0m \u001b[0mnp\u001b[0m\u001b[0;34m.\u001b[0m\u001b[0mrandom\u001b[0m\u001b[0;34m.\u001b[0m\u001b[0mchoice\u001b[0m\u001b[0;34m(\u001b[0m\u001b[0membeddings\u001b[0m\u001b[0;34m,\u001b[0m \u001b[0msize\u001b[0m\u001b[0;34m=\u001b[0m\u001b[0;34m(\u001b[0m\u001b[0;36m10\u001b[0m\u001b[0;34m,\u001b[0m\u001b[0;36m2\u001b[0m\u001b[0;34m)\u001b[0m\u001b[0;34m,\u001b[0m \u001b[0mreplace\u001b[0m\u001b[0;34m=\u001b[0m\u001b[0;32mFalse\u001b[0m\u001b[0;34m)\u001b[0m\u001b[0;34m\u001b[0m\u001b[0;34m\u001b[0m\u001b[0m\n\u001b[0m\u001b[1;32m      2\u001b[0m \u001b[0;31m#embeddings.shape\u001b[0m\u001b[0;34m\u001b[0m\u001b[0;34m\u001b[0m\u001b[0;34m\u001b[0m\u001b[0m\n",
      "\u001b[0;32mmtrand.pyx\u001b[0m in \u001b[0;36mnumpy.random.mtrand.RandomState.choice\u001b[0;34m()\u001b[0m\n",
      "\u001b[0;31mValueError\u001b[0m: a must be 1-dimensional"
     ]
    }
   ],
   "source": [
    "s = np.random.choice(embeddings, size=(10,2), replace=False)\n",
    "#embeddings.shape"
   ]
  },
  {
   "cell_type": "code",
   "execution_count": 15,
   "id": "85516076",
   "metadata": {},
   "outputs": [
    {
     "name": "stdout",
     "output_type": "stream",
     "text": [
      "[1 2 3 4]\n",
      "[1 1]\n"
     ]
    }
   ],
   "source": [
    "arr = np.array([1,2,3,4])\n",
    "s =  np.random.choice(arr, size=2, replace=False) # replace=False - each value can be selected only once\n",
    "print(arr)\n",
    "print(s)\n",
    "# get random indexes\n",
    "# use them to get items from total sample to slice arr\n",
    "# use them to delete items from total sample\n",
    "# consider boolean mask to do the removal?"
   ]
  },
  {
   "cell_type": "code",
   "execution_count": null,
   "id": "173629f7",
   "metadata": {},
   "outputs": [],
   "source": []
  }
 ],
 "metadata": {
  "kernelspec": {
   "display_name": "Python 3 (ipykernel)",
   "language": "python",
   "name": "python3"
  },
  "language_info": {
   "codemirror_mode": {
    "name": "ipython",
    "version": 3
   },
   "file_extension": ".py",
   "mimetype": "text/x-python",
   "name": "python",
   "nbconvert_exporter": "python",
   "pygments_lexer": "ipython3",
   "version": "3.7.9"
  }
 },
 "nbformat": 4,
 "nbformat_minor": 5
}
